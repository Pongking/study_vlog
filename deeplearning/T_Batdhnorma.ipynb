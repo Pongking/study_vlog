{
 "cells": [
  {
   "cell_type": "code",
   "execution_count": 38,
   "metadata": {},
   "outputs": [],
   "source": [
    "import torch\n",
    "from torch import nn"
   ]
  },
  {
   "cell_type": "code",
   "execution_count": 39,
   "metadata": {},
   "outputs": [
    {
     "name": "stdout",
     "output_type": "stream",
     "text": [
      "tensor([[ 0.8332,  1.2289, -2.5414,  1.2525, -0.9389],\n",
      "        [ 0.3214,  0.3583, -0.6925,  1.7809,  0.1849],\n",
      "        [-0.1985,  0.5603,  0.3599,  1.5247, -1.7335],\n",
      "        [-1.8723,  0.4543,  0.1932,  0.4416,  0.7460]])\n"
     ]
    }
   ],
   "source": [
    "x=torch.randn(4,5)\n",
    "print(x)"
   ]
  },
  {
   "cell_type": "code",
   "execution_count": 40,
   "metadata": {},
   "outputs": [],
   "source": [
    "m=nn.BatchNorm1d(5)"
   ]
  },
  {
   "cell_type": "code",
   "execution_count": 41,
   "metadata": {},
   "outputs": [
    {
     "data": {
      "text/plain": [
       "(Parameter containing:\n",
       " tensor([1., 1., 1., 1., 1.], requires_grad=True),\n",
       " Parameter containing:\n",
       " tensor([0., 0., 0., 0., 0.], requires_grad=True))"
      ]
     },
     "execution_count": 41,
     "metadata": {},
     "output_type": "execute_result"
    }
   ],
   "source": [
    "m.weight,m.bias"
   ]
  },
  {
   "cell_type": "code",
   "execution_count": 42,
   "metadata": {},
   "outputs": [],
   "source": [
    "output=m(x)"
   ]
  },
  {
   "cell_type": "code",
   "execution_count": 43,
   "metadata": {},
   "outputs": [
    {
     "data": {
      "text/plain": [
       "tensor([[ 1.0451,  1.6937, -1.6243,  0.0051, -0.5221],\n",
       "        [ 0.5415, -0.8553, -0.0193,  1.0563,  0.6433],\n",
       "        [ 0.0301, -0.2640,  0.8942,  0.5466, -1.3463],\n",
       "        [-1.6167, -0.5744,  0.7495, -1.6079,  1.2252]],\n",
       "       grad_fn=<NativeBatchNormBackward0>)"
      ]
     },
     "execution_count": 43,
     "metadata": {},
     "output_type": "execute_result"
    }
   ],
   "source": [
    "output"
   ]
  },
  {
   "cell_type": "code",
   "execution_count": 44,
   "metadata": {},
   "outputs": [
    {
     "data": {
      "text/plain": [
       "tensor([ 2.9802e-08,  0.0000e+00, -5.9605e-08, -5.9605e-08,  0.0000e+00],\n",
       "       grad_fn=<MeanBackward1>)"
      ]
     },
     "execution_count": 44,
     "metadata": {},
     "output_type": "execute_result"
    }
   ],
   "source": [
    "output.mean(dim=0)"
   ]
  },
  {
   "cell_type": "code",
   "execution_count": 45,
   "metadata": {},
   "outputs": [
    {
     "data": {
      "text/plain": [
       "tensor([1.0000, 1.0000, 1.0000, 1.0000, 1.0000], grad_fn=<StdBackward0>)"
      ]
     },
     "execution_count": 45,
     "metadata": {},
     "output_type": "execute_result"
    }
   ],
   "source": [
    "output.std(dim=0,unbiased=False) "
   ]
  },
  {
   "cell_type": "code",
   "execution_count": 46,
   "metadata": {},
   "outputs": [],
   "source": [
    "mean=x.mean(dim=0)"
   ]
  },
  {
   "cell_type": "code",
   "execution_count": 47,
   "metadata": {},
   "outputs": [
    {
     "data": {
      "text/plain": [
       "tensor([-0.2290,  0.6504, -0.6702,  1.2499, -0.4354])"
      ]
     },
     "execution_count": 47,
     "metadata": {},
     "output_type": "execute_result"
    }
   ],
   "source": [
    "mean"
   ]
  },
  {
   "cell_type": "code",
   "execution_count": 50,
   "metadata": {},
   "outputs": [],
   "source": [
    "std=torch.sqrt(1e-5+torch.var(x,dim=0,unbiased=False))"
   ]
  },
  {
   "cell_type": "code",
   "execution_count": 51,
   "metadata": {},
   "outputs": [
    {
     "data": {
      "text/plain": [
       "tensor([1.0164, 0.3416, 1.1520, 0.5027, 0.9642])"
      ]
     },
     "execution_count": 51,
     "metadata": {},
     "output_type": "execute_result"
    }
   ],
   "source": [
    "std"
   ]
  },
  {
   "cell_type": "code",
   "execution_count": 52,
   "metadata": {},
   "outputs": [
    {
     "data": {
      "text/plain": [
       "tensor([[ 1.0451,  1.6937, -1.6243,  0.0051, -0.5221],\n",
       "        [ 0.5415, -0.8553, -0.0193,  1.0563,  0.6433],\n",
       "        [ 0.0301, -0.2640,  0.8942,  0.5466, -1.3463],\n",
       "        [-1.6167, -0.5744,  0.7495, -1.6079,  1.2252]])"
      ]
     },
     "execution_count": 52,
     "metadata": {},
     "output_type": "execute_result"
    }
   ],
   "source": [
    "(x-mean)/std"
   ]
  },
  {
   "cell_type": "code",
   "execution_count": 54,
   "metadata": {},
   "outputs": [
    {
     "data": {
      "text/plain": [
       "tensor([[ 1.0451,  1.6937, -1.6243,  0.0051, -0.5221],\n",
       "        [ 0.5415, -0.8553, -0.0193,  1.0563,  0.6433],\n",
       "        [ 0.0301, -0.2640,  0.8942,  0.5466, -1.3463],\n",
       "        [-1.6167, -0.5744,  0.7495, -1.6079,  1.2252]],\n",
       "       grad_fn=<NativeBatchNormBackward0>)"
      ]
     },
     "execution_count": 54,
     "metadata": {},
     "output_type": "execute_result"
    }
   ],
   "source": [
    "m(x)"
   ]
  },
  {
   "cell_type": "code",
   "execution_count": 55,
   "metadata": {},
   "outputs": [],
   "source": [
    "x2=torch.randn(2,3,2,2)"
   ]
  },
  {
   "cell_type": "code",
   "execution_count": 56,
   "metadata": {},
   "outputs": [
    {
     "data": {
      "text/plain": [
       "tensor([[[[ 4.1565e-02,  1.1205e+00],\n",
       "          [-1.0709e+00, -1.8868e-01]],\n",
       "\n",
       "         [[-1.8310e-03,  1.0647e+00],\n",
       "          [-7.7611e-03, -3.8762e-01]],\n",
       "\n",
       "         [[ 3.0861e-01,  5.1556e-01],\n",
       "          [ 1.8704e-01, -6.3858e-04]]],\n",
       "\n",
       "\n",
       "        [[[ 6.9480e-01, -1.0051e+00],\n",
       "          [-4.5387e-01, -2.4652e-01]],\n",
       "\n",
       "         [[ 3.5592e-01, -1.6001e+00],\n",
       "          [ 3.8048e-01, -1.3849e+00]],\n",
       "\n",
       "         [[ 1.3058e+00, -7.6932e-02],\n",
       "          [ 3.0813e-01, -1.6407e+00]]]])"
      ]
     },
     "execution_count": 56,
     "metadata": {},
     "output_type": "execute_result"
    }
   ],
   "source": [
    "x2"
   ]
  },
  {
   "cell_type": "code",
   "execution_count": 57,
   "metadata": {},
   "outputs": [],
   "source": [
    "m2=nn.BatchNorm2d(3)"
   ]
  },
  {
   "cell_type": "code",
   "execution_count": 58,
   "metadata": {},
   "outputs": [
    {
     "data": {
      "text/plain": [
       "tensor([[[[ 0.2532,  1.7704],\n",
       "          [-1.3111, -0.0705]],\n",
       "\n",
       "         [[ 0.2315,  1.4927],\n",
       "          [ 0.2245, -0.2246]],\n",
       "\n",
       "         [[ 0.2523,  0.5197],\n",
       "          [ 0.0952, -0.1473]]],\n",
       "\n",
       "\n",
       "        [[[ 1.1718, -1.2185],\n",
       "          [-0.4434, -0.1519]],\n",
       "\n",
       "         [[ 0.6546, -1.6584],\n",
       "          [ 0.6836, -1.4040]],\n",
       "\n",
       "         [[ 1.5409, -0.2459],\n",
       "          [ 0.2517, -2.2665]]]], grad_fn=<NativeBatchNormBackward0>)"
      ]
     },
     "execution_count": 58,
     "metadata": {},
     "output_type": "execute_result"
    }
   ],
   "source": [
    "m2(x2)"
   ]
  },
  {
   "cell_type": "code",
   "execution_count": 59,
   "metadata": {},
   "outputs": [
    {
     "data": {
      "text/plain": [
       "0.9999946574857287"
      ]
     },
     "execution_count": 59,
     "metadata": {},
     "output_type": "execute_result"
    }
   ],
   "source": [
    "import numpy as np\n",
    "t=[ 0.2532,  1.7704,-1.3111, -0.0705,1.1718, -1.2185,-0.4434, -0.1519]\n",
    "np.std(t)"
   ]
  },
  {
   "cell_type": "code",
   "execution_count": 60,
   "metadata": {},
   "outputs": [
    {
     "data": {
      "text/plain": [
       "1.3877787807814457e-17"
      ]
     },
     "execution_count": 60,
     "metadata": {},
     "output_type": "execute_result"
    }
   ],
   "source": [
    "np.mean(t)"
   ]
  },
  {
   "cell_type": "code",
   "execution_count": null,
   "metadata": {},
   "outputs": [],
   "source": []
  }
 ],
 "metadata": {
  "kernelspec": {
   "display_name": "pc_demo1",
   "language": "python",
   "name": "python3"
  },
  "language_info": {
   "codemirror_mode": {
    "name": "ipython",
    "version": 3
   },
   "file_extension": ".py",
   "mimetype": "text/x-python",
   "name": "python",
   "nbconvert_exporter": "python",
   "pygments_lexer": "ipython3",
   "version": "3.8.17"
  }
 },
 "nbformat": 4,
 "nbformat_minor": 2
}

{
 "cells": [
  {
   "cell_type": "code",
   "execution_count": null,
   "metadata": {},
   "outputs": [],
   "source": [
    "import numpy as np\n",
    "\n",
    "def relu(x):\n",
    "    '''\n",
    "    return output of Rectified Linear Unit and derivative\n",
    "    '''\n",
    "    f=np.maximum(0,x)\n",
    "    df=np.where(x>0,1,0)\n",
    "    return f,df\n"
   ]
  }
 ],
 "metadata": {
  "kernelspec": {
   "display_name": "pc_demo1",
   "language": "python",
   "name": "python3"
  },
  "language_info": {
   "name": "python",
   "version": "3.8.17"
  }
 },
 "nbformat": 4,
 "nbformat_minor": 2
}

{
 "cells": [
  {
   "cell_type": "code",
   "execution_count": 6,
   "metadata": {},
   "outputs": [
    {
     "data": {
      "text/plain": [
       "15"
      ]
     },
     "execution_count": 6,
     "metadata": {},
     "output_type": "execute_result"
    }
   ],
   "source": [
    "ip_add=\"192.168.0.0:111\"\n",
    "len(ip_add)"
   ]
  },
  {
   "cell_type": "markdown",
   "metadata": {},
   "source": [
    "~~~\n",
    "final int p = 16777619;\n",
    "        int hash = (int)2166136261L;\n",
    "        for (int i = 0; i < str.length(); i++) {\n",
    "            hash =( hash ^ str.charAt(i) ) * p;\n",
    "        }\n",
    "        hash += hash << 13;\n",
    "        hash ^= hash >> 7;\n",
    "        hash += hash << 3;\n",
    "        hash ^= hash >> 17;\n",
    "        hash += hash << 5;\n",
    "\n",
    "        if (hash < 0) {\n",
    "            hash = Math.abs(hash);\n",
    "        }\n",
    "        return hash;\n",
    "        ~~~"
   ]
  },
  {
   "cell_type": "code",
   "execution_count": 69,
   "metadata": {},
   "outputs": [
    {
     "name": "stderr",
     "output_type": "stream",
     "text": [
      "/tmp/ipykernel_23045/2806661443.py:7: DeprecationWarning: NumPy will stop allowing conversion of out-of-bound Python integers to integer arrays.  The conversion of 2166136261 to int32 will fail in the future.\n",
      "For the old behavior, usually:\n",
      "    np.array(value).astype(dtype)\n",
      "will give the desired result (the cast overflows).\n",
      "  hash=np.int32(2166136261)\n",
      "/tmp/ipykernel_23045/2806661443.py:9: RuntimeWarning: overflow encountered in scalar multiply\n",
      "  hash=(hash^ord(i))*p\n",
      "/tmp/ipykernel_23045/2806661443.py:10: RuntimeWarning: overflow encountered in scalar add\n",
      "  hash+=hash<<13\n"
     ]
    },
    {
     "data": {
      "text/plain": [
       "6128561051046971426"
      ]
     },
     "execution_count": 69,
     "metadata": {},
     "output_type": "execute_result"
    }
   ],
   "source": [
    "import math\n",
    "import tqdm\n",
    "import numpy as np\n",
    "def get_hash(str):\n",
    "\n",
    "    p=np.int32(16777619)\n",
    "    hash=np.int32(2166136261)\n",
    "    for i in str:\n",
    "        hash=(hash^ord(i))*p\n",
    "    hash+=hash<<13\n",
    "    hash^=(hash>>7)\n",
    "    hash+=hash<<3\n",
    "    hash^=(hash>>17)\n",
    "    hash+=hash<<5\n",
    "    if hash<0:\n",
    "        hash=np.abs(hash)\n",
    "    return hash\n",
    "    # print(hash)\n",
    "# print(ip_add)\n",
    "get_hash(ip_add)\n",
    "# hash=numpy.power(hash,poe)\n",
    "# print(hash)\n",
    "# print(ord('.'))\n"
   ]
  },
  {
   "cell_type": "code",
   "execution_count": null,
   "metadata": {},
   "outputs": [],
   "source": []
  }
 ],
 "metadata": {
  "kernelspec": {
   "display_name": "tc2p1",
   "language": "python",
   "name": "python3"
  },
  "language_info": {
   "codemirror_mode": {
    "name": "ipython",
    "version": 3
   },
   "file_extension": ".py",
   "mimetype": "text/x-python",
   "name": "python",
   "nbconvert_exporter": "python",
   "pygments_lexer": "ipython3",
   "version": "3.10.13"
  }
 },
 "nbformat": 4,
 "nbformat_minor": 2
}
